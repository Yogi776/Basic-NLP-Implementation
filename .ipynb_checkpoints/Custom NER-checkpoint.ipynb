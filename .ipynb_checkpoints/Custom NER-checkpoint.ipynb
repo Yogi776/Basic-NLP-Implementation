{
 "cells": [
  {
   "cell_type": "markdown",
   "metadata": {
    "id": "StCOpff9R2kw"
   },
   "source": [
    "## Failure of Pre-built NER model"
   ]
  },
  {
   "cell_type": "code",
   "execution_count": 7,
   "metadata": {
    "ExecuteTime": {
     "end_time": "2021-05-24T04:30:37.011108Z",
     "start_time": "2021-05-24T04:30:36.833929Z"
    },
    "id": "HsOBsdMGR2k4",
    "outputId": "dc3bd09b-9458-4fdc-b10c-5ca7b1fd34a2"
   },
   "outputs": [
    {
     "name": "stdout",
     "output_type": "stream",
     "text": [
      "[(Indore, 'GPE')]\n"
     ]
    }
   ],
   "source": [
    "# importing the model en_core_web_sm of English for vocabluary, syntax & entities\n",
    "import en_core_web_sm   \n",
    "\n",
    "# load en_core_web_sm of English for vocabluary, syntax & entities\n",
    "nlp = en_core_web_sm.load() \n",
    "\n",
    "#  \"nlp\" Object is used to create documents with linguistic annotations.\n",
    "doc = nlp('what is the price of mcspicy chicken? I live in Indore')\n",
    "\n",
    "entities=[(i, i.label_) for i in doc.ents]\n",
    "\n",
    "print(entities)"
   ]
  },
  {
   "cell_type": "markdown",
   "metadata": {
    "id": "ZmKs_h6nR2k8"
   },
   "source": [
    "## Train Custom NER model"
   ]
  },
  {
   "cell_type": "code",
   "execution_count": 8,
   "metadata": {
    "ExecuteTime": {
     "end_time": "2021-05-24T04:18:36.705439Z",
     "start_time": "2021-05-24T04:18:36.702400Z"
    },
    "id": "W9sWwVLoR2k9"
   },
   "outputs": [],
   "source": [
    "# import the required libraries\n",
    "import spacy\n",
    "import random"
   ]
  },
  {
   "cell_type": "code",
   "execution_count": 9,
   "metadata": {
    "ExecuteTime": {
     "end_time": "2021-05-24T04:28:53.838677Z",
     "start_time": "2021-05-24T04:28:53.834601Z"
    },
    "id": "8KcBBRBnR2k-"
   },
   "outputs": [],
   "source": [
    "# Initial parameters\n",
    "model_file = None # set existing model name other wise set it to None\n",
    "iterations = 20"
   ]
  },
  {
   "cell_type": "code",
   "execution_count": 10,
   "metadata": {
    "ExecuteTime": {
     "end_time": "2021-05-24T04:28:54.757824Z",
     "start_time": "2021-05-24T04:28:54.748328Z"
    },
    "id": "fz1MvjHlR2k_"
   },
   "outputs": [],
   "source": [
    "# Training data\n",
    "TRAINING_DATA = [('what is the price of McVeggie?', {'entities': [(21, 29, 'FoodProduct')]}), \n",
    "                 ('what is the price of McEgg?', {'entities': [(21, 26, 'FoodProduct')]}), \n",
    "                 ('what is the price of McChicken?', {'entities': [(21, 30, 'FoodProduct')]}), \n",
    "                 ('what is the price of McSpicy Paneer?', {'entities': [(21, 35, 'FoodProduct')]}), \n",
    "                 ('what is the price of McSpicy Chicken?', {'entities': [(21, 36, 'FoodProduct')]}),] "
   ]
  },
  {
   "cell_type": "code",
   "execution_count": 11,
   "metadata": {
    "ExecuteTime": {
     "end_time": "2021-05-24T04:28:55.936107Z",
     "start_time": "2021-05-24T04:28:55.792694Z"
    },
    "id": "AKate0D0R2lA",
    "outputId": "6b750742-ee60-41f1-8d80-cad616195267"
   },
   "outputs": [
    {
     "name": "stdout",
     "output_type": "stream",
     "text": [
      "Created blank NLP model\n"
     ]
    }
   ],
   "source": [
    "# Testing sample data       \n",
    "test_sample='what is the price of McAloo?'\n",
    "\n",
    "# Create NLP model\n",
    "if model_file is not None:\n",
    "    nlp = spacy.load(model_file)  \n",
    "    print(\"Load Existing NER Model \", model_file)\n",
    "else:\n",
    "    nlp = spacy.blank('en')  \n",
    "    print(\"Created blank NLP model\")"
   ]
  },
  {
   "cell_type": "code",
   "execution_count": 14,
   "metadata": {
    "ExecuteTime": {
     "end_time": "2021-05-24T04:22:53.956191Z",
     "start_time": "2021-05-24T04:22:53.947321Z"
    },
    "id": "u8j0WBJlR2lB"
   },
   "outputs": [],
   "source": [
    "# Create NLP Pipeline\n",
    "if 'ner' not in nlp.pipe_names: \n",
    "    nlp.add_pipe('ner')\n",
    "else:\n",
    "    ner_pipe = nlp.get_pipe('ner')"
   ]
  },
  {
   "cell_type": "code",
   "execution_count": 16,
   "metadata": {},
   "outputs": [
    {
     "name": "stdout",
     "output_type": "stream",
     "text": [
      "what is the price of McVeggie?\n",
      "{'entities': [(21, 29, 'FoodProduct')]}\n",
      "what is the price of McEgg?\n",
      "{'entities': [(21, 26, 'FoodProduct')]}\n",
      "what is the price of McChicken?\n",
      "{'entities': [(21, 30, 'FoodProduct')]}\n",
      "what is the price of McSpicy Paneer?\n",
      "{'entities': [(21, 35, 'FoodProduct')]}\n",
      "what is the price of McSpicy Chicken?\n",
      "{'entities': [(21, 36, 'FoodProduct')]}\n"
     ]
    }
   ],
   "source": [
    "for text, annotations in TRAINING_DATA:\n",
    "    print(text)\n",
    "    print(annotations)"
   ]
  },
  {
   "cell_type": "code",
   "execution_count": 17,
   "metadata": {
    "ExecuteTime": {
     "end_time": "2021-05-24T04:24:00.383842Z",
     "start_time": "2021-05-24T04:24:00.376724Z"
    },
    "id": "kbUhrgCbR2lC"
   },
   "outputs": [],
   "source": [
    "# Add entities labels to the ner pipeline\n",
    "for text, annotations in TRAINING_DATA:\n",
    "    for entity in annotations.get('entities'):\n",
    "        ner_pipe.add_label(entity[2])"
   ]
  },
  {
   "cell_type": "code",
   "execution_count": 24,
   "metadata": {
    "ExecuteTime": {
     "end_time": "2021-05-24T04:26:07.923328Z",
     "start_time": "2021-05-24T04:26:05.600965Z"
    },
    "id": "ZAs3XGQtR2lE",
    "outputId": "a57397cf-a6cc-4c3d-8867-bcc845f2083f"
   },
   "outputs": [
    {
     "name": "stdout",
     "output_type": "stream",
     "text": [
      "Iteration Number:0\n",
      "Loss: 27.67336332798004\n",
      "Iteration Number:1\n",
      "Loss: 14.65741965174675\n",
      "Iteration Number:2\n",
      "Loss: 6.1494375862203015\n",
      "Iteration Number:3\n",
      "Loss: 3.840953488090271\n",
      "Iteration Number:4\n",
      "Loss: 2.7248798537986763\n",
      "Iteration Number:5\n",
      "Loss: 2.205629466531748\n",
      "Iteration Number:6\n",
      "Loss: 5.353648221464597\n",
      "Iteration Number:7\n",
      "Loss: 1.589421958231739\n",
      "Iteration Number:8\n",
      "Loss: 3.2146930639546265\n",
      "Iteration Number:9\n",
      "Loss: 2.4547040706671233\n",
      "Iteration Number:10\n",
      "Loss: 0.29687204025395736\n",
      "Iteration Number:11\n",
      "Loss: 0.08804141546645604\n",
      "Iteration Number:12\n",
      "Loss: 0.005363100676044991\n",
      "Iteration Number:13\n",
      "Loss: 0.00011563083046032588\n",
      "Iteration Number:14\n",
      "Loss: 1.5327865883590205e-05\n",
      "Iteration Number:15\n",
      "Loss: 5.2827830455521246e-05\n",
      "Iteration Number:16\n",
      "Loss: 0.00030795995479221237\n",
      "Iteration Number:17\n",
      "Loss: 6.2232355050970254e-06\n",
      "Iteration Number:18\n",
      "Loss: 1.0672198615425215e-05\n",
      "Iteration Number:19\n",
      "Loss: 1.2493638922025262e-06\n"
     ]
    }
   ],
   "source": [
    "from spacy.training.example import Example\n",
    "\n",
    "# get names of other pipes to disable them during training\n",
    "other_pipes = [pipe for pipe in nlp.pipe_names if pipe != 'ner']# train NER Model\n",
    "\n",
    "with nlp.disable_pipes(*other_pipes):  # only train NER\n",
    "    optimizer = nlp.begin_training()\n",
    "    for itn in range(iterations):\n",
    "        print(\"Iteration Number:\" + str(itn))\n",
    "        random.shuffle(TRAINING_DATA)\n",
    "        losses = {}\n",
    "        for text, annotations in TRAINING_DATA:\n",
    "            # create example object\n",
    "            example = Example.from_dict(nlp.make_doc(text), annotations) # batch of texts and annotations\n",
    "            nlp.update([example],  \n",
    "                drop=0.2,# dropout - make it harder to memorise data\n",
    "                sgd=optimizer,  # callable to update weights\n",
    "                losses=losses)\n",
    "        print(\"Loss:\",losses['ner'])"
   ]
  },
  {
   "cell_type": "code",
   "execution_count": 25,
   "metadata": {
    "ExecuteTime": {
     "end_time": "2021-05-24T04:27:16.613220Z",
     "start_time": "2021-05-24T04:27:16.582749Z"
    },
    "id": "hs5VQUNJR2lF",
    "outputId": "a5116abf-d2d0-4ea8-be3b-96d63a69fe8e"
   },
   "outputs": [
    {
     "name": "stdout",
     "output_type": "stream",
     "text": [
      "McAloo 21 27 FoodProduct\n"
     ]
    }
   ],
   "source": [
    "# save model\n",
    "model_file =\"ner_model\"\n",
    "nlp.to_disk(model_file)# test model\n",
    "\n",
    "\n",
    "test_document = nlp(test_sample)\n",
    "for ent in test_document.ents:\n",
    "    print(ent.text, ent.start_char, ent.end_char, ent.label_)"
   ]
  },
  {
   "cell_type": "markdown",
   "metadata": {
    "id": "oCCnN8cHR2lG"
   },
   "source": [
    "## Experiments"
   ]
  },
  {
   "cell_type": "code",
   "execution_count": 33,
   "metadata": {
    "id": "swiTrlAsR2lL"
   },
   "outputs": [
    {
     "data": {
      "text/plain": [
       "('book a ticket indore to delhi',\n",
       " {'entities': [(14, 20, 'Source'), (24, 29, 'Destination')]})"
      ]
     },
     "execution_count": 33,
     "metadata": {},
     "output_type": "execute_result"
    }
   ],
   "source": [
    "('book a ticket indore to delhi', {'entities': [(14, 20, 'Source'),(24, 29,'Destination')]})"
   ]
  },
  {
   "cell_type": "code",
   "execution_count": 34,
   "metadata": {
    "ExecuteTime": {
     "end_time": "2021-05-24T04:33:45.053354Z",
     "start_time": "2021-05-24T04:33:45.040071Z"
    },
    "id": "9TUqW-iHR2lO",
    "outputId": "a2f2e9cc-b834-48a6-9f82-adb1635dbe53"
   },
   "outputs": [
    {
     "data": {
      "text/plain": [
       "(24, 29)"
      ]
     },
     "execution_count": 34,
     "metadata": {},
     "output_type": "execute_result"
    }
   ],
   "source": [
    "'book a ticket indore to delhi'.index('delhi'), 'book a ticket indore to delhi'.index('delhi')+len('delhi')"
   ]
  },
  {
   "cell_type": "code",
   "execution_count": 36,
   "metadata": {
    "ExecuteTime": {
     "end_time": "2021-05-24T04:36:40.557231Z",
     "start_time": "2021-05-24T04:36:40.554562Z"
    },
    "id": "TAACY8ofR2lP"
   },
   "outputs": [],
   "source": [
    "news=\"\"\"The Supreme Court on Sunday issued a slew of directions to the Central and state governments on the COVID-19 situation and directed that no patient shall be denied hospitalisation or essential drugs in any State or Union Territory for lack of local residential or identity proof.\n",
    "Bench headed by Justice DY Chandrachud directed the Central government to formulate a national policy on admissions to hospitals, within two weeks, which shall be followed by all state governments and till then no patients will be denied admission or essential drugs in absence of local residential or identity proof.\"\"\""
   ]
  },
  {
   "cell_type": "code",
   "execution_count": 37,
   "metadata": {
    "ExecuteTime": {
     "end_time": "2021-05-24T04:36:56.639307Z",
     "start_time": "2021-05-24T04:36:56.631009Z"
    },
    "id": "KxLS_qASR2lR",
    "outputId": "83a7d941-a2b8-4862-e836-199d7960f530"
   },
   "outputs": [
    {
     "data": {
      "text/plain": [
       "(4, 17)"
      ]
     },
     "execution_count": 37,
     "metadata": {},
     "output_type": "execute_result"
    }
   ],
   "source": [
    "news.index('Supreme Court'),news.index('Supreme Court')+len('Supreme Court')"
   ]
  },
  {
   "cell_type": "code",
   "execution_count": 38,
   "metadata": {
    "ExecuteTime": {
     "end_time": "2021-05-24T04:44:16.839210Z",
     "start_time": "2021-05-24T04:44:16.833726Z"
    },
    "id": "bQg8k70JR2lS",
    "outputId": "c9040eca-d108-419e-bbaf-54f1eef4895a"
   },
   "outputs": [
    {
     "name": "stdout",
     "output_type": "stream",
     "text": [
      "Supreme Court 4 17\n",
      "Justice DY Chandrachud 296 318\n",
      "Central government 332 350\n"
     ]
    }
   ],
   "source": [
    "l=['Supreme Court','Justice DY Chandrachud','Central government']\n",
    "for i in l:\n",
    "    st=news.index(i)\n",
    "    en=st+len(i)\n",
    "    print(i,st,en)"
   ]
  },
  {
   "cell_type": "code",
   "execution_count": null,
   "metadata": {
    "id": "6FBvHhJPR2lT"
   },
   "outputs": [],
   "source": [
    "NER ===> classification"
   ]
  },
  {
   "cell_type": "code",
   "execution_count": null,
   "metadata": {
    "id": "RLOvkjv5R2lT"
   },
   "outputs": [],
   "source": [
    "X1, X2           y\n",
    "[start, end,] entity_type\n",
    "\n",
    "21, 26 source\n",
    "21, 24 destination\n",
    "...."
   ]
  },
  {
   "cell_type": "markdown",
   "metadata": {
    "id": "tXDgUzrxR2lU"
   },
   "source": [
    "## Custom NER model 2"
   ]
  },
  {
   "cell_type": "code",
   "execution_count": 26,
   "metadata": {
    "ExecuteTime": {
     "end_time": "2021-05-25T04:06:09.105647Z",
     "start_time": "2021-05-25T04:05:58.138009Z"
    },
    "id": "EXk00JlQR2lU"
   },
   "outputs": [],
   "source": [
    "import spacy\n",
    "import random\n",
    "\n",
    "\n",
    "#SPECIFY THE NER TRAINING DATA\n",
    "TRAIN_DATA = [\n",
    "        (\"I have deposited an amount of $500 using my debit card.\",{\"entities\":[(7,16,\"action\"),(30,34,\"amount\")]}),\n",
    "        (\"Send $500 to the merchant with account number 1234567890. \",{\"entities\":[(0,4,\"action\"),(5,9,\"amount\")]}),\n",
    "        (\"Transfer $20000 to my new bank account ending with the number 4567. \",{\"entities\":[(0,8,\"action\"),(9,15,\"amount\")]}),\n",
    "        (\"Please deposit $2000 in my account. \",{\"entities\":[(7,14,\"action\"),(15,20,\"amount\")]}),\n",
    "        (\"I would like to withdraw $10000 from my bank account. \",{\"entities\":[(16,24,\"action\"),(25,31,\"amount\")]})]"
   ]
  },
  {
   "cell_type": "code",
   "execution_count": 28,
   "metadata": {
    "ExecuteTime": {
     "end_time": "2021-05-25T04:06:09.879078Z",
     "start_time": "2021-05-25T04:06:09.117642Z"
    },
    "id": "I1yHS8fcR2lW"
   },
   "outputs": [
    {
     "data": {
      "text/plain": [
       "<spacy.pipeline.ner.EntityRecognizer at 0x1d96962f940>"
      ]
     },
     "execution_count": 28,
     "metadata": {},
     "output_type": "execute_result"
    }
   ],
   "source": [
    "# Create balnk NLP model\n",
    "nlp = spacy.blank('en') \n",
    "\n",
    "# Create pipe\n",
    "nlp.add_pipe('ner')"
   ]
  },
  {
   "cell_type": "code",
   "execution_count": 29,
   "metadata": {
    "ExecuteTime": {
     "end_time": "2021-05-25T04:07:47.968797Z",
     "start_time": "2021-05-25T04:07:47.937226Z"
    },
    "id": "vPAfnlxQR2lZ"
   },
   "outputs": [],
   "source": [
    "# Add entities labels to the ner pipeline\n",
    "for text, annotations in TRAIN_DATA:\n",
    "    for entity in annotations.get('entities'):\n",
    "        ner_pipe.add_label(entity[2])"
   ]
  },
  {
   "cell_type": "code",
   "execution_count": 30,
   "metadata": {
    "ExecuteTime": {
     "end_time": "2021-05-25T04:11:38.395462Z",
     "start_time": "2021-05-25T04:11:37.353218Z"
    },
    "id": "BKFqbO9sR2la",
    "outputId": "1cb16b3d-1843-413e-f037-854ed2676067"
   },
   "outputs": [
    {
     "name": "stdout",
     "output_type": "stream",
     "text": [
      "Loss: 49.11087340116501\n",
      "Loss: 35.62243336439133\n",
      "Loss: 16.901780327782035\n",
      "Loss: 12.226527539416566\n",
      "Loss: 34.31252641390529\n",
      "Loss: 9.412501119382796\n",
      "Loss: 5.754572443964207\n",
      "Loss: 2.3702553956709096\n",
      "Loss: 0.2659346944671661\n",
      "Loss: 0.13192886341598045\n"
     ]
    }
   ],
   "source": [
    "optimizer = nlp.begin_training()\n",
    "\n",
    "for itn in range(10):\n",
    "    #print(\"Iteration Number:\" + str(itn))\n",
    "    random.shuffle(TRAIN_DATA)\n",
    "    losses = {}\n",
    "    for text, annotations in TRAIN_DATA:\n",
    "        # create example object\n",
    "        example = Example.from_dict(nlp.make_doc(text), annotations) # batch of texts and annotations\n",
    "        nlp.update([example],  \n",
    "            drop=0.2,# dropout - make it harder to memorise data\n",
    "            sgd=optimizer,  # callable to update weights\n",
    "            losses=losses)\n",
    "    print(\"Loss:\",losses['ner'])"
   ]
  },
  {
   "cell_type": "code",
   "execution_count": 31,
   "metadata": {
    "ExecuteTime": {
     "end_time": "2021-05-25T04:22:31.453268Z",
     "start_time": "2021-05-25T04:22:31.241013Z"
    },
    "id": "WmLQu2D_R2lb",
    "outputId": "d3eb59af-dd0c-4f6f-ac73-f7bc64e39cfb"
   },
   "outputs": [
    {
     "name": "stdout",
     "output_type": "stream",
     "text": [
      "Model saved\n"
     ]
    }
   ],
   "source": [
    "#SAVE THE CUSTOM NER MODEL TO\n",
    "nlp.to_disk(\"custom_ner_model\")\n",
    "print(\"Model saved\")"
   ]
  },
  {
   "cell_type": "code",
   "execution_count": 32,
   "metadata": {
    "ExecuteTime": {
     "end_time": "2021-05-25T04:22:46.104332Z",
     "start_time": "2021-05-25T04:22:45.769028Z"
    },
    "id": "fjaS0YDoR2lc",
    "outputId": "0ec02dac-9413-4dee-ec3a-bb8a5b591b73"
   },
   "outputs": [
    {
     "name": "stdout",
     "output_type": "stream",
     "text": [
      "action withdrawn\n",
      "amount $300\n"
     ]
    }
   ],
   "source": [
    "nlp2 = spacy.load(\"custom_ner_model\")\n",
    "doc2 = nlp2(\"I have withdrawn an amount of $300 with my credit card.\")\n",
    "for ent in doc2.ents:\n",
    "    print(ent.label_, ent.text)"
   ]
  },
  {
   "cell_type": "code",
   "execution_count": null,
   "metadata": {
    "id": "WwxpOvpUR2ld"
   },
   "outputs": [],
   "source": []
  }
 ],
 "metadata": {
  "colab": {
   "name": "Custom NER.ipynb",
   "provenance": []
  },
  "kernelspec": {
   "display_name": "Python 3",
   "language": "python",
   "name": "python3"
  },
  "language_info": {
   "codemirror_mode": {
    "name": "ipython",
    "version": 3
   },
   "file_extension": ".py",
   "mimetype": "text/x-python",
   "name": "python",
   "nbconvert_exporter": "python",
   "pygments_lexer": "ipython3",
   "version": "3.8.5"
  },
  "toc": {
   "base_numbering": 1,
   "nav_menu": {},
   "number_sections": true,
   "sideBar": true,
   "skip_h1_title": false,
   "title_cell": "Table of Contents",
   "title_sidebar": "Contents",
   "toc_cell": false,
   "toc_position": {},
   "toc_section_display": true,
   "toc_window_display": true
  },
  "varInspector": {
   "cols": {
    "lenName": 16,
    "lenType": 16,
    "lenVar": 40
   },
   "kernels_config": {
    "python": {
     "delete_cmd_postfix": "",
     "delete_cmd_prefix": "del ",
     "library": "var_list.py",
     "varRefreshCmd": "print(var_dic_list())"
    },
    "r": {
     "delete_cmd_postfix": ") ",
     "delete_cmd_prefix": "rm(",
     "library": "var_list.r",
     "varRefreshCmd": "cat(var_dic_list()) "
    }
   },
   "types_to_exclude": [
    "module",
    "function",
    "builtin_function_or_method",
    "instance",
    "_Feature"
   ],
   "window_display": false
  }
 },
 "nbformat": 4,
 "nbformat_minor": 1
}
